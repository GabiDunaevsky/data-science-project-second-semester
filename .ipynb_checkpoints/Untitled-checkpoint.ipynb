{
 "cells": [
  {
   "cell_type": "code",
   "execution_count": 1,
   "metadata": {},
   "outputs": [],
   "source": [
    "import pandas as pd\n",
    "import numpy as np"
   ]
  },
  {
   "cell_type": "code",
   "execution_count": 4,
   "metadata": {},
   "outputs": [],
   "source": [
    "Train = pd.read_excel(r'C:\\Users\\Gabi\\Desktop\\TrainHands.xlsx')"
   ]
  },
  {
   "cell_type": "code",
   "execution_count": 5,
   "metadata": {},
   "outputs": [
    {
     "data": {
      "text/html": [
       "<div>\n",
       "<style scoped>\n",
       "    .dataframe tbody tr th:only-of-type {\n",
       "        vertical-align: middle;\n",
       "    }\n",
       "\n",
       "    .dataframe tbody tr th {\n",
       "        vertical-align: top;\n",
       "    }\n",
       "\n",
       "    .dataframe thead th {\n",
       "        text-align: right;\n",
       "    }\n",
       "</style>\n",
       "<table border=\"1\" class=\"dataframe\">\n",
       "  <thead>\n",
       "    <tr style=\"text-align: right;\">\n",
       "      <th></th>\n",
       "      <th>Time</th>\n",
       "      <th>Frame ID</th>\n",
       "      <th>Hand Type</th>\n",
       "      <th># hands</th>\n",
       "      <th>Position X</th>\n",
       "      <th>Position Y</th>\n",
       "      <th>Position Z</th>\n",
       "      <th>Velocity X</th>\n",
       "      <th>Velocity Y</th>\n",
       "      <th>Velocity Z</th>\n",
       "      <th>...</th>\n",
       "      <th>Wrist Pos Y</th>\n",
       "      <th>Wrist Pos Z</th>\n",
       "      <th>Elbow pos X</th>\n",
       "      <th>Elbow Pos Y</th>\n",
       "      <th>Elbow Pos Z</th>\n",
       "      <th>Grab Strenth</th>\n",
       "      <th>Grab Angle</th>\n",
       "      <th>Pinch Strength</th>\n",
       "      <th>Name</th>\n",
       "      <th>Status</th>\n",
       "    </tr>\n",
       "  </thead>\n",
       "  <tbody>\n",
       "    <tr>\n",
       "      <th>0</th>\n",
       "      <td>335.9984</td>\n",
       "      <td>128556</td>\n",
       "      <td>right</td>\n",
       "      <td>2</td>\n",
       "      <td>128.63570</td>\n",
       "      <td>224.0294</td>\n",
       "      <td>-12.29588</td>\n",
       "      <td>-18.26243</td>\n",
       "      <td>-140.54450</td>\n",
       "      <td>-117.57790</td>\n",
       "      <td>...</td>\n",
       "      <td>173.5658</td>\n",
       "      <td>-14.569630</td>\n",
       "      <td>276.8753</td>\n",
       "      <td>-33.68264</td>\n",
       "      <td>91.61740</td>\n",
       "      <td>0.0</td>\n",
       "      <td>1.250576</td>\n",
       "      <td>0.0</td>\n",
       "      <td>Evyatar</td>\n",
       "      <td>Spontan</td>\n",
       "    </tr>\n",
       "    <tr>\n",
       "      <th>1</th>\n",
       "      <td>335.9984</td>\n",
       "      <td>128556</td>\n",
       "      <td>left</td>\n",
       "      <td>2</td>\n",
       "      <td>-93.24845</td>\n",
       "      <td>143.9423</td>\n",
       "      <td>-37.81597</td>\n",
       "      <td>-109.09820</td>\n",
       "      <td>240.38980</td>\n",
       "      <td>-67.62959</td>\n",
       "      <td>...</td>\n",
       "      <td>109.9380</td>\n",
       "      <td>-5.326688</td>\n",
       "      <td>-329.8577</td>\n",
       "      <td>-34.41571</td>\n",
       "      <td>93.88171</td>\n",
       "      <td>0.0</td>\n",
       "      <td>0.014736</td>\n",
       "      <td>0.0</td>\n",
       "      <td>Evyatar</td>\n",
       "      <td>Spontan</td>\n",
       "    </tr>\n",
       "    <tr>\n",
       "      <th>2</th>\n",
       "      <td>336.0150</td>\n",
       "      <td>128558</td>\n",
       "      <td>right</td>\n",
       "      <td>2</td>\n",
       "      <td>129.15550</td>\n",
       "      <td>221.9923</td>\n",
       "      <td>-15.00181</td>\n",
       "      <td>47.36464</td>\n",
       "      <td>-64.25022</td>\n",
       "      <td>-168.85850</td>\n",
       "      <td>...</td>\n",
       "      <td>171.1952</td>\n",
       "      <td>-14.677850</td>\n",
       "      <td>276.0645</td>\n",
       "      <td>-33.15913</td>\n",
       "      <td>97.88171</td>\n",
       "      <td>0.0</td>\n",
       "      <td>1.069930</td>\n",
       "      <td>0.0</td>\n",
       "      <td>Evyatar</td>\n",
       "      <td>Spontan</td>\n",
       "    </tr>\n",
       "    <tr>\n",
       "      <th>3</th>\n",
       "      <td>336.0150</td>\n",
       "      <td>128558</td>\n",
       "      <td>left</td>\n",
       "      <td>2</td>\n",
       "      <td>-94.86554</td>\n",
       "      <td>148.5542</td>\n",
       "      <td>-39.00158</td>\n",
       "      <td>-80.99012</td>\n",
       "      <td>278.60220</td>\n",
       "      <td>-66.79356</td>\n",
       "      <td>...</td>\n",
       "      <td>113.0909</td>\n",
       "      <td>-7.375025</td>\n",
       "      <td>-326.9279</td>\n",
       "      <td>-39.97873</td>\n",
       "      <td>85.98000</td>\n",
       "      <td>0.0</td>\n",
       "      <td>0.000000</td>\n",
       "      <td>0.0</td>\n",
       "      <td>Evyatar</td>\n",
       "      <td>Spontan</td>\n",
       "    </tr>\n",
       "    <tr>\n",
       "      <th>4</th>\n",
       "      <td>336.0315</td>\n",
       "      <td>128560</td>\n",
       "      <td>right</td>\n",
       "      <td>2</td>\n",
       "      <td>129.87070</td>\n",
       "      <td>220.7944</td>\n",
       "      <td>-18.38681</td>\n",
       "      <td>35.05422</td>\n",
       "      <td>-84.74242</td>\n",
       "      <td>-205.72030</td>\n",
       "      <td>...</td>\n",
       "      <td>169.9159</td>\n",
       "      <td>-15.246240</td>\n",
       "      <td>276.1767</td>\n",
       "      <td>-30.72506</td>\n",
       "      <td>104.13920</td>\n",
       "      <td>0.0</td>\n",
       "      <td>0.916969</td>\n",
       "      <td>0.0</td>\n",
       "      <td>Evyatar</td>\n",
       "      <td>Spontan</td>\n",
       "    </tr>\n",
       "  </tbody>\n",
       "</table>\n",
       "<p>5 rows × 24 columns</p>\n",
       "</div>"
      ],
      "text/plain": [
       "       Time   Frame ID  Hand Type   # hands   Position X   Position Y  \\\n",
       "0  335.9984     128556      right         2    128.63570     224.0294   \n",
       "1  335.9984     128556       left         2    -93.24845     143.9423   \n",
       "2  336.0150     128558      right         2    129.15550     221.9923   \n",
       "3  336.0150     128558       left         2    -94.86554     148.5542   \n",
       "4  336.0315     128560      right         2    129.87070     220.7944   \n",
       "\n",
       "    Position Z   Velocity X   Velocity Y   Velocity Z  ...   Wrist Pos Y  \\\n",
       "0    -12.29588    -18.26243   -140.54450   -117.57790  ...      173.5658   \n",
       "1    -37.81597   -109.09820    240.38980    -67.62959  ...      109.9380   \n",
       "2    -15.00181     47.36464    -64.25022   -168.85850  ...      171.1952   \n",
       "3    -39.00158    -80.99012    278.60220    -66.79356  ...      113.0909   \n",
       "4    -18.38681     35.05422    -84.74242   -205.72030  ...      169.9159   \n",
       "\n",
       "    Wrist Pos Z   Elbow pos X   Elbow Pos Y   Elbow Pos Z   Grab Strenth  \\\n",
       "0    -14.569630      276.8753     -33.68264      91.61740            0.0   \n",
       "1     -5.326688     -329.8577     -34.41571      93.88171            0.0   \n",
       "2    -14.677850      276.0645     -33.15913      97.88171            0.0   \n",
       "3     -7.375025     -326.9279     -39.97873      85.98000            0.0   \n",
       "4    -15.246240      276.1767     -30.72506     104.13920            0.0   \n",
       "\n",
       "    Grab Angle   Pinch Strength     Name   Status  \n",
       "0     1.250576              0.0  Evyatar  Spontan  \n",
       "1     0.014736              0.0  Evyatar  Spontan  \n",
       "2     1.069930              0.0  Evyatar  Spontan  \n",
       "3     0.000000              0.0  Evyatar  Spontan  \n",
       "4     0.916969              0.0  Evyatar  Spontan  \n",
       "\n",
       "[5 rows x 24 columns]"
      ]
     },
     "execution_count": 5,
     "metadata": {},
     "output_type": "execute_result"
    }
   ],
   "source": [
    "Train.head()"
   ]
  },
  {
   "cell_type": "code",
   "execution_count": 7,
   "metadata": {},
   "outputs": [
    {
     "data": {
      "text/plain": [
       "Evyatar    27444\n",
       "Nofar      27439\n",
       "Sachar     27438\n",
       "Shelly     27388\n",
       "Oriya      27383\n",
       "Orya       27326\n",
       "Revital    26964\n",
       "Yael       26951\n",
       "Yoel       15937\n",
       "Name: Name, dtype: int64"
      ]
     },
     "execution_count": 7,
     "metadata": {},
     "output_type": "execute_result"
    }
   ],
   "source": [
    "Train['Name'].value_counts()"
   ]
  },
  {
   "cell_type": "code",
   "execution_count": 8,
   "metadata": {},
   "outputs": [
    {
     "data": {
      "text/plain": [
       "Alone      82130\n",
       "Spontan    76121\n",
       "Sync       76019\n",
       "Name: Status, dtype: int64"
      ]
     },
     "execution_count": 8,
     "metadata": {},
     "output_type": "execute_result"
    }
   ],
   "source": [
    "Train['Status'].value_counts()"
   ]
  },
  {
   "cell_type": "code",
   "execution_count": null,
   "metadata": {},
   "outputs": [],
   "source": []
  },
  {
   "cell_type": "code",
   "execution_count": null,
   "metadata": {},
   "outputs": [],
   "source": []
  },
  {
   "cell_type": "code",
   "execution_count": null,
   "metadata": {},
   "outputs": [],
   "source": []
  },
  {
   "cell_type": "code",
   "execution_count": null,
   "metadata": {},
   "outputs": [],
   "source": []
  },
  {
   "cell_type": "code",
   "execution_count": null,
   "metadata": {},
   "outputs": [],
   "source": []
  }
 ],
 "metadata": {
  "kernelspec": {
   "display_name": "Python 3",
   "language": "python",
   "name": "python3"
  },
  "language_info": {
   "codemirror_mode": {
    "name": "ipython",
    "version": 3
   },
   "file_extension": ".py",
   "mimetype": "text/x-python",
   "name": "python",
   "nbconvert_exporter": "python",
   "pygments_lexer": "ipython3",
   "version": "3.8.3"
  }
 },
 "nbformat": 4,
 "nbformat_minor": 4
}

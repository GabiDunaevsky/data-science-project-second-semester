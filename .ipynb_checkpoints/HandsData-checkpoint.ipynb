{
 "cells": [
  {
   "cell_type": "code",
   "execution_count": 9,
   "metadata": {},
   "outputs": [],
   "source": [
    "import pandas as pd\n",
    "import numpy as np"
   ]
  },
  {
   "cell_type": "code",
   "execution_count": 18,
   "metadata": {},
   "outputs": [],
   "source": [
    "Train = pd.read_excel(r'C:\\Users\\Gabi\\Desktop\\TrainHandsTX.xlsx')"
   ]
  },
  {
   "cell_type": "code",
   "execution_count": 19,
   "metadata": {},
   "outputs": [
    {
     "data": {
      "text/html": [
       "<div>\n",
       "<style scoped>\n",
       "    .dataframe tbody tr th:only-of-type {\n",
       "        vertical-align: middle;\n",
       "    }\n",
       "\n",
       "    .dataframe tbody tr th {\n",
       "        vertical-align: top;\n",
       "    }\n",
       "\n",
       "    .dataframe thead th {\n",
       "        text-align: right;\n",
       "    }\n",
       "</style>\n",
       "<table border=\"1\" class=\"dataframe\">\n",
       "  <thead>\n",
       "    <tr style=\"text-align: right;\">\n",
       "      <th></th>\n",
       "      <th>Time</th>\n",
       "      <th>Frame ID</th>\n",
       "      <th>Hand Type</th>\n",
       "      <th># hands</th>\n",
       "      <th>Position X</th>\n",
       "      <th>Position Y</th>\n",
       "      <th>Position Z</th>\n",
       "      <th>Velocity X</th>\n",
       "      <th>Velocity Y</th>\n",
       "      <th>Velocity Z</th>\n",
       "      <th>...</th>\n",
       "      <th>Wrist Pos Y</th>\n",
       "      <th>Wrist Pos Z</th>\n",
       "      <th>Elbow pos X</th>\n",
       "      <th>Elbow Pos Y</th>\n",
       "      <th>Elbow Pos Z</th>\n",
       "      <th>Grab Strenth</th>\n",
       "      <th>Grab Angle</th>\n",
       "      <th>Pinch Strength</th>\n",
       "      <th>Name</th>\n",
       "      <th>Status</th>\n",
       "    </tr>\n",
       "  </thead>\n",
       "  <tbody>\n",
       "    <tr>\n",
       "      <th>0</th>\n",
       "      <td>342.9067</td>\n",
       "      <td>129352</td>\n",
       "      <td>right</td>\n",
       "      <td>2</td>\n",
       "      <td>155.36250</td>\n",
       "      <td>202.5827</td>\n",
       "      <td>-36.450480</td>\n",
       "      <td>11.972500</td>\n",
       "      <td>26.67168</td>\n",
       "      <td>-11.181860</td>\n",
       "      <td>...</td>\n",
       "      <td>167.4102</td>\n",
       "      <td>12.813210</td>\n",
       "      <td>345.7986</td>\n",
       "      <td>28.865260</td>\n",
       "      <td>156.42850</td>\n",
       "      <td>1.0</td>\n",
       "      <td>3.001800</td>\n",
       "      <td>0.361849</td>\n",
       "      <td>Evyatar</td>\n",
       "      <td>Spontan</td>\n",
       "    </tr>\n",
       "    <tr>\n",
       "      <th>1</th>\n",
       "      <td>342.9067</td>\n",
       "      <td>129352</td>\n",
       "      <td>left</td>\n",
       "      <td>2</td>\n",
       "      <td>-89.49918</td>\n",
       "      <td>171.7441</td>\n",
       "      <td>-5.705496</td>\n",
       "      <td>-94.770070</td>\n",
       "      <td>253.03620</td>\n",
       "      <td>1.677825</td>\n",
       "      <td>...</td>\n",
       "      <td>138.3898</td>\n",
       "      <td>2.001232</td>\n",
       "      <td>-363.1834</td>\n",
       "      <td>3.843343</td>\n",
       "      <td>24.07473</td>\n",
       "      <td>0.0</td>\n",
       "      <td>1.849902</td>\n",
       "      <td>0.000000</td>\n",
       "      <td>Evyatar</td>\n",
       "      <td>Spontan</td>\n",
       "    </tr>\n",
       "    <tr>\n",
       "      <th>2</th>\n",
       "      <td>342.9232</td>\n",
       "      <td>129354</td>\n",
       "      <td>right</td>\n",
       "      <td>2</td>\n",
       "      <td>154.92270</td>\n",
       "      <td>202.8757</td>\n",
       "      <td>-36.845130</td>\n",
       "      <td>-24.067840</td>\n",
       "      <td>18.87515</td>\n",
       "      <td>-24.960110</td>\n",
       "      <td>...</td>\n",
       "      <td>167.6347</td>\n",
       "      <td>12.050900</td>\n",
       "      <td>350.1299</td>\n",
       "      <td>33.117030</td>\n",
       "      <td>154.81180</td>\n",
       "      <td>1.0</td>\n",
       "      <td>2.937275</td>\n",
       "      <td>0.382127</td>\n",
       "      <td>Evyatar</td>\n",
       "      <td>Spontan</td>\n",
       "    </tr>\n",
       "    <tr>\n",
       "      <th>3</th>\n",
       "      <td>342.9232</td>\n",
       "      <td>129354</td>\n",
       "      <td>left</td>\n",
       "      <td>2</td>\n",
       "      <td>-90.88329</td>\n",
       "      <td>175.2036</td>\n",
       "      <td>-5.395023</td>\n",
       "      <td>-92.047520</td>\n",
       "      <td>200.66030</td>\n",
       "      <td>20.447710</td>\n",
       "      <td>...</td>\n",
       "      <td>142.0389</td>\n",
       "      <td>0.770618</td>\n",
       "      <td>-358.3046</td>\n",
       "      <td>-1.975550</td>\n",
       "      <td>24.00325</td>\n",
       "      <td>0.0</td>\n",
       "      <td>1.820714</td>\n",
       "      <td>0.000000</td>\n",
       "      <td>Evyatar</td>\n",
       "      <td>Spontan</td>\n",
       "    </tr>\n",
       "    <tr>\n",
       "      <th>4</th>\n",
       "      <td>342.9403</td>\n",
       "      <td>129356</td>\n",
       "      <td>right</td>\n",
       "      <td>2</td>\n",
       "      <td>154.76080</td>\n",
       "      <td>203.3957</td>\n",
       "      <td>-37.344770</td>\n",
       "      <td>-5.912465</td>\n",
       "      <td>32.29416</td>\n",
       "      <td>-28.194050</td>\n",
       "      <td>...</td>\n",
       "      <td>168.4456</td>\n",
       "      <td>11.450300</td>\n",
       "      <td>349.1291</td>\n",
       "      <td>35.824300</td>\n",
       "      <td>157.33020</td>\n",
       "      <td>1.0</td>\n",
       "      <td>2.876268</td>\n",
       "      <td>0.406411</td>\n",
       "      <td>Evyatar</td>\n",
       "      <td>Spontan</td>\n",
       "    </tr>\n",
       "  </tbody>\n",
       "</table>\n",
       "<p>5 rows × 24 columns</p>\n",
       "</div>"
      ],
      "text/plain": [
       "       Time   Frame ID  Hand Type   # hands   Position X   Position Y  \\\n",
       "0  342.9067     129352      right         2    155.36250     202.5827   \n",
       "1  342.9067     129352       left         2    -89.49918     171.7441   \n",
       "2  342.9232     129354      right         2    154.92270     202.8757   \n",
       "3  342.9232     129354       left         2    -90.88329     175.2036   \n",
       "4  342.9403     129356      right         2    154.76080     203.3957   \n",
       "\n",
       "    Position Z   Velocity X   Velocity Y   Velocity Z  ...   Wrist Pos Y  \\\n",
       "0   -36.450480    11.972500     26.67168   -11.181860  ...      167.4102   \n",
       "1    -5.705496   -94.770070    253.03620     1.677825  ...      138.3898   \n",
       "2   -36.845130   -24.067840     18.87515   -24.960110  ...      167.6347   \n",
       "3    -5.395023   -92.047520    200.66030    20.447710  ...      142.0389   \n",
       "4   -37.344770    -5.912465     32.29416   -28.194050  ...      168.4456   \n",
       "\n",
       "    Wrist Pos Z   Elbow pos X   Elbow Pos Y   Elbow Pos Z   Grab Strenth  \\\n",
       "0     12.813210      345.7986     28.865260     156.42850            1.0   \n",
       "1      2.001232     -363.1834      3.843343      24.07473            0.0   \n",
       "2     12.050900      350.1299     33.117030     154.81180            1.0   \n",
       "3      0.770618     -358.3046     -1.975550      24.00325            0.0   \n",
       "4     11.450300      349.1291     35.824300     157.33020            1.0   \n",
       "\n",
       "    Grab Angle   Pinch Strength     Name   Status  \n",
       "0     3.001800         0.361849  Evyatar  Spontan  \n",
       "1     1.849902         0.000000  Evyatar  Spontan  \n",
       "2     2.937275         0.382127  Evyatar  Spontan  \n",
       "3     1.820714         0.000000  Evyatar  Spontan  \n",
       "4     2.876268         0.406411  Evyatar  Spontan  \n",
       "\n",
       "[5 rows x 24 columns]"
      ]
     },
     "execution_count": 19,
     "metadata": {},
     "output_type": "execute_result"
    }
   ],
   "source": [
    "Train.head()"
   ]
  },
  {
   "cell_type": "code",
   "execution_count": 20,
   "metadata": {},
   "outputs": [
    {
     "data": {
      "text/plain": [
       "Evyatar    24989\n",
       "Nofar      24909\n",
       "Sachar     24904\n",
       "Shelly     24854\n",
       "Oriya      24854\n",
       "Orya       24849\n",
       "Yael       24372\n",
       "Revital    24294\n",
       "Yoel       14467\n",
       "Name: Name, dtype: int64"
      ]
     },
     "execution_count": 20,
     "metadata": {},
     "output_type": "execute_result"
    }
   ],
   "source": [
    "Train['Name'].value_counts()"
   ]
  },
  {
   "cell_type": "code",
   "execution_count": 21,
   "metadata": {},
   "outputs": [
    {
     "data": {
      "text/plain": [
       "Alone      74578\n",
       "Spontan    69077\n",
       "Sync       68837\n",
       "Name: Status, dtype: int64"
      ]
     },
     "execution_count": 21,
     "metadata": {},
     "output_type": "execute_result"
    }
   ],
   "source": [
    "Train['Status'].value_counts()"
   ]
  },
  {
   "cell_type": "code",
   "execution_count": null,
   "metadata": {},
   "outputs": [],
   "source": []
  },
  {
   "cell_type": "code",
   "execution_count": null,
   "metadata": {},
   "outputs": [],
   "source": []
  },
  {
   "cell_type": "code",
   "execution_count": null,
   "metadata": {},
   "outputs": [],
   "source": []
  },
  {
   "cell_type": "code",
   "execution_count": null,
   "metadata": {},
   "outputs": [],
   "source": []
  },
  {
   "cell_type": "code",
   "execution_count": null,
   "metadata": {},
   "outputs": [],
   "source": []
  }
 ],
 "metadata": {
  "kernelspec": {
   "display_name": "Python 3",
   "language": "python",
   "name": "python3"
  },
  "language_info": {
   "codemirror_mode": {
    "name": "ipython",
    "version": 3
   },
   "file_extension": ".py",
   "mimetype": "text/x-python",
   "name": "python",
   "nbconvert_exporter": "python",
   "pygments_lexer": "ipython3",
   "version": "3.8.3"
  }
 },
 "nbformat": 4,
 "nbformat_minor": 4
}
